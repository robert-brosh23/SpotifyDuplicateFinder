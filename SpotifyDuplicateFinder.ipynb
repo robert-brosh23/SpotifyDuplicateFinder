{
  "cells": [
    {
      "cell_type": "markdown",
      "metadata": {
        "id": "view-in-github",
        "colab_type": "text"
      },
      "source": [
        "<a href=\"https://colab.research.google.com/github/robert-brosh23/SpotifyDuplicateFinder/blob/main/SpotifyDuplicateFinder.ipynb\" target=\"_parent\"><img src=\"https://colab.research.google.com/assets/colab-badge.svg\" alt=\"Open In Colab\"/></a>"
      ]
    },
    {
      "cell_type": "code",
      "execution_count": 84,
      "metadata": {
        "colab": {
          "base_uri": "https://localhost:8080/"
        },
        "id": "o2jAi037mYJf",
        "outputId": "1149d68e-a0ca-4a61-a114-3e5605ce1fef"
      },
      "outputs": [
        {
          "output_type": "stream",
          "name": "stdout",
          "text": [
            "Requirement already satisfied: spotipy in /usr/local/lib/python3.10/dist-packages (2.23.0)\n",
            "Requirement already satisfied: redis>=3.5.3 in /usr/local/lib/python3.10/dist-packages (from spotipy) (5.0.0)\n",
            "Requirement already satisfied: requests>=2.25.0 in /usr/local/lib/python3.10/dist-packages (from spotipy) (2.31.0)\n",
            "Requirement already satisfied: six>=1.15.0 in /usr/local/lib/python3.10/dist-packages (from spotipy) (1.16.0)\n",
            "Requirement already satisfied: urllib3>=1.26.0 in /usr/local/lib/python3.10/dist-packages (from spotipy) (2.0.4)\n",
            "Requirement already satisfied: async-timeout>=4.0.2 in /usr/local/lib/python3.10/dist-packages (from redis>=3.5.3->spotipy) (4.0.3)\n",
            "Requirement already satisfied: charset-normalizer<4,>=2 in /usr/local/lib/python3.10/dist-packages (from requests>=2.25.0->spotipy) (3.2.0)\n",
            "Requirement already satisfied: idna<4,>=2.5 in /usr/local/lib/python3.10/dist-packages (from requests>=2.25.0->spotipy) (3.4)\n",
            "Requirement already satisfied: certifi>=2017.4.17 in /usr/local/lib/python3.10/dist-packages (from requests>=2.25.0->spotipy) (2023.7.22)\n"
          ]
        }
      ],
      "source": [
        "pip install spotipy --upgrade"
      ]
    },
    {
      "cell_type": "code",
      "execution_count": 85,
      "metadata": {
        "id": "JfzlQtOPmLj1"
      },
      "outputs": [],
      "source": [
        "import spotipy\n",
        "from spotipy.oauth2 import SpotifyOAuth"
      ]
    },
    {
      "cell_type": "code",
      "execution_count": 86,
      "metadata": {
        "id": "rKAn01dsmlGC"
      },
      "outputs": [],
      "source": [
        "scope = \"playlist-modify-public\"\n",
        "sp = spotipy.Spotify(auth_manager=SpotifyOAuth(scope=scope, client_id='82ef38fc0e954457b061319691ae6f09', client_secret='8369c21f75564e2aa239d6529bb5e79a', redirect_uri='http://localhost:3000', open_browser=False))"
      ]
    },
    {
      "cell_type": "code",
      "execution_count": 87,
      "metadata": {
        "id": "MRMs_XZwrvs2",
        "colab": {
          "base_uri": "https://localhost:8080/"
        },
        "outputId": "072fb859-6c1d-4306-a465-9e89ec17276a"
      },
      "outputs": [
        {
          "output_type": "stream",
          "name": "stdout",
          "text": [
            "https://open.spotify.com/user/froggthedogg\n",
            "{'href': 'https://api.spotify.com/v1/users/froggthedogg/playlists?offset=0&limit=50', 'items': [{'collaborative': False, 'description': 'Playlist created by the tutorial on developer.spotify.com', 'external_urls': {'spotify': 'https://open.spotify.com/playlist/2NCMaZuuG2Esj2xS8d3WKn'}, 'href': 'https://api.spotify.com/v1/playlists/2NCMaZuuG2Esj2xS8d3WKn', 'id': '2NCMaZuuG2Esj2xS8d3WKn', 'images': [{'height': 640, 'url': 'https://mosaic.scdn.co/640/ab67616d0000b2735b37091c34b90f98091a7422ab67616d0000b2736593537e6a1510219779f1a5ab67616d0000b2736eb7dbfb29e190d101b8a5f2ab67616d0000b273772da9eafd483d4958fa850f', 'width': 640}, {'height': 300, 'url': 'https://mosaic.scdn.co/300/ab67616d0000b2735b37091c34b90f98091a7422ab67616d0000b2736593537e6a1510219779f1a5ab67616d0000b2736eb7dbfb29e190d101b8a5f2ab67616d0000b273772da9eafd483d4958fa850f', 'width': 300}, {'height': 60, 'url': 'https://mosaic.scdn.co/60/ab67616d0000b2735b37091c34b90f98091a7422ab67616d0000b2736593537e6a1510219779f1a5ab67616d0000b2736eb7dbfb29e190d101b8a5f2ab67616d0000b273772da9eafd483d4958fa850f', 'width': 60}], 'name': 'spotify api test playlist', 'owner': {'display_name': 'Rob Brosh', 'external_urls': {'spotify': 'https://open.spotify.com/user/froggthedogg'}, 'href': 'https://api.spotify.com/v1/users/froggthedogg', 'id': 'froggthedogg', 'type': 'user', 'uri': 'spotify:user:froggthedogg'}, 'primary_color': None, 'public': True, 'snapshot_id': 'NDEsMjcwNzI4ZDE2ZGJiOTZjNmI4YjVkN2JjOGI2NWRlZjBhNTM1OTgyYw==', 'tracks': {'href': 'https://api.spotify.com/v1/playlists/2NCMaZuuG2Esj2xS8d3WKn/tracks', 'total': 9}, 'type': 'playlist', 'uri': 'spotify:playlist:2NCMaZuuG2Esj2xS8d3WKn'}, {'collaborative': False, 'description': '2000s bangers. the grade school jams', 'external_urls': {'spotify': 'https://open.spotify.com/playlist/01F0bzEiHo2PpIhoJI7pO4'}, 'href': 'https://api.spotify.com/v1/playlists/01F0bzEiHo2PpIhoJI7pO4', 'id': '01F0bzEiHo2PpIhoJI7pO4', 'images': [{'height': 640, 'url': 'https://mosaic.scdn.co/640/ab67616d0000b27366c3eb32692a0ae487079cf1ab67616d0000b273785d4e702802da500fc78b32ab67616d0000b273c0ddb38854cde41708d606a1ab67616d0000b273ce7d499847da02a9cbd1c084', 'width': 640}, {'height': 300, 'url': 'https://mosaic.scdn.co/300/ab67616d0000b27366c3eb32692a0ae487079cf1ab67616d0000b273785d4e702802da500fc78b32ab67616d0000b273c0ddb38854cde41708d606a1ab67616d0000b273ce7d499847da02a9cbd1c084', 'width': 300}, {'height': 60, 'url': 'https://mosaic.scdn.co/60/ab67616d0000b27366c3eb32692a0ae487079cf1ab67616d0000b273785d4e702802da500fc78b32ab67616d0000b273c0ddb38854cde41708d606a1ab67616d0000b273ce7d499847da02a9cbd1c084', 'width': 60}], 'name': 'Nostalgia', 'owner': {'display_name': 'Rob Brosh', 'external_urls': {'spotify': 'https://open.spotify.com/user/froggthedogg'}, 'href': 'https://api.spotify.com/v1/users/froggthedogg', 'id': 'froggthedogg', 'type': 'user', 'uri': 'spotify:user:froggthedogg'}, 'primary_color': None, 'public': True, 'snapshot_id': 'NzksMDA3NTczZmIzOGRjZWEyZjMzZDVhZWNkOWY4N2Y1NjkyYjg4MDM1NA==', 'tracks': {'href': 'https://api.spotify.com/v1/playlists/01F0bzEiHo2PpIhoJI7pO4/tracks', 'total': 65}, 'type': 'playlist', 'uri': 'spotify:playlist:01F0bzEiHo2PpIhoJI7pO4'}, {'collaborative': False, 'description': '', 'external_urls': {'spotify': 'https://open.spotify.com/playlist/1INCwPmDDrcAqEFdwwXPAz'}, 'href': 'https://api.spotify.com/v1/playlists/1INCwPmDDrcAqEFdwwXPAz', 'id': '1INCwPmDDrcAqEFdwwXPAz', 'images': [{'height': 640, 'url': 'https://mosaic.scdn.co/640/ab67616d0000b273607d28cbacde196bf4c48f9cab67616d0000b273d52d8eb3be188231e120dbbdab67616d0000b273d6eed1aad3f049e9a028ccceab67616d0000b273eb53f4b6e1b8ce294598d0b1', 'width': 640}, {'height': 300, 'url': 'https://mosaic.scdn.co/300/ab67616d0000b273607d28cbacde196bf4c48f9cab67616d0000b273d52d8eb3be188231e120dbbdab67616d0000b273d6eed1aad3f049e9a028ccceab67616d0000b273eb53f4b6e1b8ce294598d0b1', 'width': 300}, {'height': 60, 'url': 'https://mosaic.scdn.co/60/ab67616d0000b273607d28cbacde196bf4c48f9cab67616d0000b273d52d8eb3be188231e120dbbdab67616d0000b273d6eed1aad3f049e9a028ccceab67616d0000b273eb53f4b6e1b8ce294598d0b1', 'width': 60}], 'name': 'Covers', 'owner': {'display_name': 'Rob Brosh', 'external_urls': {'spotify': 'https://open.spotify.com/user/froggthedogg'}, 'href': 'https://api.spotify.com/v1/users/froggthedogg', 'id': 'froggthedogg', 'type': 'user', 'uri': 'spotify:user:froggthedogg'}, 'primary_color': None, 'public': True, 'snapshot_id': 'NixkOThhNmQ3Y2IwZTBlMGYxNDYwZmQyNDFjYzcyZjJlOTU5M2E5ZDRi', 'tracks': {'href': 'https://api.spotify.com/v1/playlists/1INCwPmDDrcAqEFdwwXPAz/tracks', 'total': 4}, 'type': 'playlist', 'uri': 'spotify:playlist:1INCwPmDDrcAqEFdwwXPAz'}, {'collaborative': False, 'description': '', 'external_urls': {'spotify': 'https://open.spotify.com/playlist/40kSQXdoJB8h9uiccXuT9f'}, 'href': 'https://api.spotify.com/v1/playlists/40kSQXdoJB8h9uiccXuT9f', 'id': '40kSQXdoJB8h9uiccXuT9f', 'images': [{'height': 640, 'url': 'https://mosaic.scdn.co/640/ab67616d0000b2731e816be3575d007cc77bac94ab67616d0000b273ccdddd46119a4ff53eaf1f5dab67616d0000b273dac72e8c6011661f7eca27f1ab67616d0000b273fec1b815bb3c50a64a90fd10', 'width': 640}, {'height': 300, 'url': 'https://mosaic.scdn.co/300/ab67616d0000b2731e816be3575d007cc77bac94ab67616d0000b273ccdddd46119a4ff53eaf1f5dab67616d0000b273dac72e8c6011661f7eca27f1ab67616d0000b273fec1b815bb3c50a64a90fd10', 'width': 300}, {'height': 60, 'url': 'https://mosaic.scdn.co/60/ab67616d0000b2731e816be3575d007cc77bac94ab67616d0000b273ccdddd46119a4ff53eaf1f5dab67616d0000b273dac72e8c6011661f7eca27f1ab67616d0000b273fec1b815bb3c50a64a90fd10', 'width': 60}], 'name': 'Roadtrip!!!', 'owner': {'display_name': 'Rob Brosh', 'external_urls': {'spotify': 'https://open.spotify.com/user/froggthedogg'}, 'href': 'https://api.spotify.com/v1/users/froggthedogg', 'id': 'froggthedogg', 'type': 'user', 'uri': 'spotify:user:froggthedogg'}, 'primary_color': None, 'public': True, 'snapshot_id': 'NDcsMjI5NTMwYTQyNDc5YTllMjlkNDI2NGNlOThjNzBmOGUxZjdlYWFmMg==', 'tracks': {'href': 'https://api.spotify.com/v1/playlists/40kSQXdoJB8h9uiccXuT9f/tracks', 'total': 45}, 'type': 'playlist', 'uri': 'spotify:playlist:40kSQXdoJB8h9uiccXuT9f'}, {'collaborative': False, 'description': '', 'external_urls': {'spotify': 'https://open.spotify.com/playlist/0q6BRPAZCqAQJrMkrVN1Kc'}, 'href': 'https://api.spotify.com/v1/playlists/0q6BRPAZCqAQJrMkrVN1Kc', 'id': '0q6BRPAZCqAQJrMkrVN1Kc', 'images': [{'height': 640, 'url': 'https://mosaic.scdn.co/640/ab67616d0000b2734123c0f9b6689205d20f350fab67616d0000b27346e207de66ba06422897f769ab67616d0000b273baf1b4e7868c72e9a14b7fccab67616d0000b273eb88e3c32c3bb61e318695b3', 'width': 640}, {'height': 300, 'url': 'https://mosaic.scdn.co/300/ab67616d0000b2734123c0f9b6689205d20f350fab67616d0000b27346e207de66ba06422897f769ab67616d0000b273baf1b4e7868c72e9a14b7fccab67616d0000b273eb88e3c32c3bb61e318695b3', 'width': 300}, {'height': 60, 'url': 'https://mosaic.scdn.co/60/ab67616d0000b2734123c0f9b6689205d20f350fab67616d0000b27346e207de66ba06422897f769ab67616d0000b273baf1b4e7868c72e9a14b7fccab67616d0000b273eb88e3c32c3bb61e318695b3', 'width': 60}], 'name': 'Rise up 2', 'owner': {'display_name': 'Rob Brosh', 'external_urls': {'spotify': 'https://open.spotify.com/user/froggthedogg'}, 'href': 'https://api.spotify.com/v1/users/froggthedogg', 'id': 'froggthedogg', 'type': 'user', 'uri': 'spotify:user:froggthedogg'}, 'primary_color': None, 'public': True, 'snapshot_id': 'MTQsOTVjZGZlNTkwN2Q1NTY5MGVhZjkxOThlZjAwNDFlNTc3YTk1NzQ5Zg==', 'tracks': {'href': 'https://api.spotify.com/v1/playlists/0q6BRPAZCqAQJrMkrVN1Kc/tracks', 'total': 13}, 'type': 'playlist', 'uri': 'spotify:playlist:0q6BRPAZCqAQJrMkrVN1Kc'}, {'collaborative': False, 'description': '', 'external_urls': {'spotify': 'https://open.spotify.com/playlist/31ljl9tBjGSHor8iZklyxV'}, 'href': 'https://api.spotify.com/v1/playlists/31ljl9tBjGSHor8iZklyxV', 'id': '31ljl9tBjGSHor8iZklyxV', 'images': [{'height': 640, 'url': 'https://mosaic.scdn.co/640/ab67616d0000b273154315c292d2a9725e39d97cab67616d0000b273813c8bfec16e7a388ece0d05ab67616d0000b273a91a5b301baac1f46e6f30ebab67616d0000b273f91a3040f0be854026ad2dd0', 'width': 640}, {'height': 300, 'url': 'https://mosaic.scdn.co/300/ab67616d0000b273154315c292d2a9725e39d97cab67616d0000b273813c8bfec16e7a388ece0d05ab67616d0000b273a91a5b301baac1f46e6f30ebab67616d0000b273f91a3040f0be854026ad2dd0', 'width': 300}, {'height': 60, 'url': 'https://mosaic.scdn.co/60/ab67616d0000b273154315c292d2a9725e39d97cab67616d0000b273813c8bfec16e7a388ece0d05ab67616d0000b273a91a5b301baac1f46e6f30ebab67616d0000b273f91a3040f0be854026ad2dd0', 'width': 60}], 'name': 'For Willow', 'owner': {'display_name': 'Rob Brosh', 'external_urls': {'spotify': 'https://open.spotify.com/user/froggthedogg'}, 'href': 'https://api.spotify.com/v1/users/froggthedogg', 'id': 'froggthedogg', 'type': 'user', 'uri': 'spotify:user:froggthedogg'}, 'primary_color': None, 'public': True, 'snapshot_id': 'MzQsODk0NjM1MGQ5OWVkZTQxNDI1NGMxZThlMDE2MDA2ZjcwNmYwNmJhZg==', 'tracks': {'href': 'https://api.spotify.com/v1/playlists/31ljl9tBjGSHor8iZklyxV/tracks', 'total': 28}, 'type': 'playlist', 'uri': 'spotify:playlist:31ljl9tBjGSHor8iZklyxV'}, {'collaborative': False, 'description': '', 'external_urls': {'spotify': 'https://open.spotify.com/playlist/3r8DUrrRcKJMNXcoPC8G9W'}, 'href': 'https://api.spotify.com/v1/playlists/3r8DUrrRcKJMNXcoPC8G9W', 'id': '3r8DUrrRcKJMNXcoPC8G9W', 'images': [{'height': 640, 'url': 'https://mosaic.scdn.co/640/ab67616d0000b27323c7a7224c1378fc3e6427cbab67616d0000b27347cb006fe3d52d643c57e978ab67616d0000b2734cd36da352888c2efed0024bab67616d0000b273baf1b4e7868c72e9a14b7fcc', 'width': 640}, {'height': 300, 'url': 'https://mosaic.scdn.co/300/ab67616d0000b27323c7a7224c1378fc3e6427cbab67616d0000b27347cb006fe3d52d643c57e978ab67616d0000b2734cd36da352888c2efed0024bab67616d0000b273baf1b4e7868c72e9a14b7fcc', 'width': 300}, {'height': 60, 'url': 'https://mosaic.scdn.co/60/ab67616d0000b27323c7a7224c1378fc3e6427cbab67616d0000b27347cb006fe3d52d643c57e978ab67616d0000b2734cd36da352888c2efed0024bab67616d0000b273baf1b4e7868c72e9a14b7fcc', 'width': 60}], 'name': 'HYPErpop', 'owner': {'display_name': 'Rob Brosh', 'external_urls': {'spotify': 'https://open.spotify.com/user/froggthedogg'}, 'href': 'https://api.spotify.com/v1/users/froggthedogg', 'id': 'froggthedogg', 'type': 'user', 'uri': 'spotify:user:froggthedogg'}, 'primary_color': None, 'public': True, 'snapshot_id': 'MjAsYTE2YmE1MmNkYjRkODYwZmNjNDg3OTY5Nzc2MmY0MWMzNTFlOWE1NA==', 'tracks': {'href': 'https://api.spotify.com/v1/playlists/3r8DUrrRcKJMNXcoPC8G9W/tracks', 'total': 18}, 'type': 'playlist', 'uri': 'spotify:playlist:3r8DUrrRcKJMNXcoPC8G9W'}, {'collaborative': False, 'description': 'a soft farewell', 'external_urls': {'spotify': 'https://open.spotify.com/playlist/1a8CiEmlYQCMUlqWrm4Ltl'}, 'href': 'https://api.spotify.com/v1/playlists/1a8CiEmlYQCMUlqWrm4Ltl', 'id': '1a8CiEmlYQCMUlqWrm4Ltl', 'images': [{'height': 640, 'url': 'https://mosaic.scdn.co/640/ab67616d0000b273610abc90bb8bbb429c5ee12bab67616d0000b27367b3ddc2f162440b8953c5c9ab67616d0000b27392976a0cccf566f7162fee42ab67616d0000b273bce39c5198c33421062d0dee', 'width': 640}, {'height': 300, 'url': 'https://mosaic.scdn.co/300/ab67616d0000b273610abc90bb8bbb429c5ee12bab67616d0000b27367b3ddc2f162440b8953c5c9ab67616d0000b27392976a0cccf566f7162fee42ab67616d0000b273bce39c5198c33421062d0dee', 'width': 300}, {'height': 60, 'url': 'https://mosaic.scdn.co/60/ab67616d0000b273610abc90bb8bbb429c5ee12bab67616d0000b27367b3ddc2f162440b8953c5c9ab67616d0000b27392976a0cccf566f7162fee42ab67616d0000b273bce39c5198c33421062d0dee', 'width': 60}], 'name': 'Strong', 'owner': {'display_name': 'Rob Brosh', 'external_urls': {'spotify': 'https://open.spotify.com/user/froggthedogg'}, 'href': 'https://api.spotify.com/v1/users/froggthedogg', 'id': 'froggthedogg', 'type': 'user', 'uri': 'spotify:user:froggthedogg'}, 'primary_color': None, 'public': True, 'snapshot_id': 'NDQsNGQ5Njk0YWYwZDAzZTlkNzFiMzNhNWE2ZDc2ZDBmMmM5ZjAyZTU4Mw==', 'tracks': {'href': 'https://api.spotify.com/v1/playlists/1a8CiEmlYQCMUlqWrm4Ltl/tracks', 'total': 37}, 'type': 'playlist', 'uri': 'spotify:playlist:1a8CiEmlYQCMUlqWrm4Ltl'}, {'collaborative': False, 'description': '', 'external_urls': {'spotify': 'https://open.spotify.com/playlist/2o1gkJC9deBqfTnMlzG6Wr'}, 'href': 'https://api.spotify.com/v1/playlists/2o1gkJC9deBqfTnMlzG6Wr', 'id': '2o1gkJC9deBqfTnMlzG6Wr', 'images': [{'height': 640, 'url': 'https://mosaic.scdn.co/640/ab67616d0000b27315b808e5ef66c36f235b4e19ab67616d0000b2735e99f0ed00e378b5298fbdf2ab67616d0000b273e1bcd643827606eae29cc9c4ab67616d0000b273eb53f4b6e1b8ce294598d0b1', 'width': 640}, {'height': 300, 'url': 'https://mosaic.scdn.co/300/ab67616d0000b27315b808e5ef66c36f235b4e19ab67616d0000b2735e99f0ed00e378b5298fbdf2ab67616d0000b273e1bcd643827606eae29cc9c4ab67616d0000b273eb53f4b6e1b8ce294598d0b1', 'width': 300}, {'height': 60, 'url': 'https://mosaic.scdn.co/60/ab67616d0000b27315b808e5ef66c36f235b4e19ab67616d0000b2735e99f0ed00e378b5298fbdf2ab67616d0000b273e1bcd643827606eae29cc9c4ab67616d0000b273eb53f4b6e1b8ce294598d0b1', 'width': 60}], 'name': 'mocktail', 'owner': {'display_name': 'Rob Brosh', 'external_urls': {'spotify': 'https://open.spotify.com/user/froggthedogg'}, 'href': 'https://api.spotify.com/v1/users/froggthedogg', 'id': 'froggthedogg', 'type': 'user', 'uri': 'spotify:user:froggthedogg'}, 'primary_color': None, 'public': True, 'snapshot_id': 'ODAsOGViYjU3MTVmYzNiZWUwNzI5M2IyZjRhM2ExNTA1NTY2NzViMGY0MQ==', 'tracks': {'href': 'https://api.spotify.com/v1/playlists/2o1gkJC9deBqfTnMlzG6Wr/tracks', 'total': 63}, 'type': 'playlist', 'uri': 'spotify:playlist:2o1gkJC9deBqfTnMlzG6Wr'}, {'collaborative': False, 'description': 'Spotify Wrapped presents the songs that you loved most this year.', 'external_urls': {'spotify': 'https://open.spotify.com/playlist/37i9dQZF1EUMDoJuT8yJsl'}, 'href': 'https://api.spotify.com/v1/playlists/37i9dQZF1EUMDoJuT8yJsl', 'id': '37i9dQZF1EUMDoJuT8yJsl', 'images': [{'height': None, 'url': 'https://lineup-images.scdn.co/wrapped-2021-top100_LARGE-en.jpg', 'width': None}], 'name': 'Your Top Songs 2021', 'owner': {'display_name': 'Spotify', 'external_urls': {'spotify': 'https://open.spotify.com/user/spotify'}, 'href': 'https://api.spotify.com/v1/users/spotify', 'id': 'spotify', 'type': 'user', 'uri': 'spotify:user:spotify'}, 'primary_color': None, 'public': True, 'snapshot_id': 'MCwwMDAwMDAwMDYxZjQxMjZkMzQwODI1Yzk3MjgxNzE3NGMwYmY4NDlj', 'tracks': {'href': 'https://api.spotify.com/v1/playlists/37i9dQZF1EUMDoJuT8yJsl/tracks', 'total': 100}, 'type': 'playlist', 'uri': 'spotify:playlist:37i9dQZF1EUMDoJuT8yJsl'}, {'collaborative': False, 'description': 'For when I feel productive.', 'external_urls': {'spotify': 'https://open.spotify.com/playlist/7zs3l1GXjV36a3pVtOklG2'}, 'href': 'https://api.spotify.com/v1/playlists/7zs3l1GXjV36a3pVtOklG2', 'id': '7zs3l1GXjV36a3pVtOklG2', 'images': [{'height': None, 'url': 'https://i.scdn.co/image/ab67706c0000bebb5a9102bbd81d34f3e8efb95c', 'width': None}], 'name': 'Coding (Instrumental)', 'owner': {'display_name': 'Rob Brosh', 'external_urls': {'spotify': 'https://open.spotify.com/user/froggthedogg'}, 'href': 'https://api.spotify.com/v1/users/froggthedogg', 'id': 'froggthedogg', 'type': 'user', 'uri': 'spotify:user:froggthedogg'}, 'primary_color': None, 'public': True, 'snapshot_id': 'NTAsYjdiZDc3YjgwY2I3MjIxODJiNzE1M2Q4NmFmMGQ1ODI5NTU4Mjc0Ng==', 'tracks': {'href': 'https://api.spotify.com/v1/playlists/7zs3l1GXjV36a3pVtOklG2/tracks', 'total': 45}, 'type': 'playlist', 'uri': 'spotify:playlist:7zs3l1GXjV36a3pVtOklG2'}, {'collaborative': False, 'description': '', 'external_urls': {'spotify': 'https://open.spotify.com/playlist/2VzhcSGbsBY5WCnHxohAxu'}, 'href': 'https://api.spotify.com/v1/playlists/2VzhcSGbsBY5WCnHxohAxu', 'id': '2VzhcSGbsBY5WCnHxohAxu', 'images': [{'height': 640, 'url': 'https://mosaic.scdn.co/640/ab67616d0000b2737dad1ec935e1022dd46e482bab67616d0000b2737e44390f08358f71669c1c33ab67616d0000b2739d8f86c5537e712f74562b6eab67616d0000b273e85e730ffee0232a1962620d', 'width': 640}, {'height': 300, 'url': 'https://mosaic.scdn.co/300/ab67616d0000b2737dad1ec935e1022dd46e482bab67616d0000b2737e44390f08358f71669c1c33ab67616d0000b2739d8f86c5537e712f74562b6eab67616d0000b273e85e730ffee0232a1962620d', 'width': 300}, {'height': 60, 'url': 'https://mosaic.scdn.co/60/ab67616d0000b2737dad1ec935e1022dd46e482bab67616d0000b2737e44390f08358f71669c1c33ab67616d0000b2739d8f86c5537e712f74562b6eab67616d0000b273e85e730ffee0232a1962620d', 'width': 60}], 'name': 'Folk Punk/Indie Rock/Midwest Emo', 'owner': {'display_name': 'Rob Brosh', 'external_urls': {'spotify': 'https://open.spotify.com/user/froggthedogg'}, 'href': 'https://api.spotify.com/v1/users/froggthedogg', 'id': 'froggthedogg', 'type': 'user', 'uri': 'spotify:user:froggthedogg'}, 'primary_color': None, 'public': True, 'snapshot_id': 'NTMsYTgwZmJiMTBmZjQ3MjEyZGEwMzI1MDBiNTU1ODU1NmZjOTc4MTkxNw==', 'tracks': {'href': 'https://api.spotify.com/v1/playlists/2VzhcSGbsBY5WCnHxohAxu/tracks', 'total': 50}, 'type': 'playlist', 'uri': 'spotify:playlist:2VzhcSGbsBY5WCnHxohAxu'}, {'collaborative': False, 'description': 'melancholic -- emotional -- nostalgic -- personal ', 'external_urls': {'spotify': 'https://open.spotify.com/playlist/6nYOvJySuOy67eX9NrlfHX'}, 'href': 'https://api.spotify.com/v1/playlists/6nYOvJySuOy67eX9NrlfHX', 'id': '6nYOvJySuOy67eX9NrlfHX', 'images': [{'height': None, 'url': 'https://i.scdn.co/image/ab67706c0000bebb9e92f5d78422ed98ed4acd48', 'width': None}], 'name': \"that's tough, bro\", 'owner': {'display_name': 'Rob Brosh', 'external_urls': {'spotify': 'https://open.spotify.com/user/froggthedogg'}, 'href': 'https://api.spotify.com/v1/users/froggthedogg', 'id': 'froggthedogg', 'type': 'user', 'uri': 'spotify:user:froggthedogg'}, 'primary_color': None, 'public': True, 'snapshot_id': 'NTk4LDg0OTZkY2RiZGFiZDQ1ZjlkNDQwNjk4ZmYwYjE3OTNiNjZiNmE5YjM=', 'tracks': {'href': 'https://api.spotify.com/v1/playlists/6nYOvJySuOy67eX9NrlfHX/tracks', 'total': 461}, 'type': 'playlist', 'uri': 'spotify:playlist:6nYOvJySuOy67eX9NrlfHX'}, {'collaborative': False, 'description': 'The songs I got addicted or readdicted to at some point over quarantine', 'external_urls': {'spotify': 'https://open.spotify.com/playlist/6uMuOrnr1rtGfR5EAE5GoL'}, 'href': 'https://api.spotify.com/v1/playlists/6uMuOrnr1rtGfR5EAE5GoL', 'id': '6uMuOrnr1rtGfR5EAE5GoL', 'images': [{'height': None, 'url': 'https://i.scdn.co/image/ab67706c0000bebba5c2685033b4175e3becc280', 'width': None}], 'name': 'C O R O N A V I R U S', 'owner': {'display_name': 'Rob Brosh', 'external_urls': {'spotify': 'https://open.spotify.com/user/froggthedogg'}, 'href': 'https://api.spotify.com/v1/users/froggthedogg', 'id': 'froggthedogg', 'type': 'user', 'uri': 'spotify:user:froggthedogg'}, 'primary_color': None, 'public': True, 'snapshot_id': 'MTM1LDRmNGVkOTQwYzYzNmFiNmU5NDc5MDI2ZmEwYmYwNWJhMzI2NTA1MzE=', 'tracks': {'href': 'https://api.spotify.com/v1/playlists/6uMuOrnr1rtGfR5EAE5GoL/tracks', 'total': 100}, 'type': 'playlist', 'uri': 'spotify:playlist:6uMuOrnr1rtGfR5EAE5GoL'}, {'collaborative': False, 'description': '', 'external_urls': {'spotify': 'https://open.spotify.com/playlist/5CX6yopv9nObwbDlQs15WL'}, 'href': 'https://api.spotify.com/v1/playlists/5CX6yopv9nObwbDlQs15WL', 'id': '5CX6yopv9nObwbDlQs15WL', 'images': [{'height': None, 'url': 'https://i.scdn.co/image/ab67706c0000bebba855b451b4cca2a06c45d2e3', 'width': None}], 'name': 'Coffee, or Orange Juice?', 'owner': {'display_name': 'Rob Brosh', 'external_urls': {'spotify': 'https://open.spotify.com/user/froggthedogg'}, 'href': 'https://api.spotify.com/v1/users/froggthedogg', 'id': 'froggthedogg', 'type': 'user', 'uri': 'spotify:user:froggthedogg'}, 'primary_color': None, 'public': True, 'snapshot_id': 'NDUsNWExNDliZjJhNWU4MGY5NWQyMjI1NGFmMWQxOWU2YjhlYzBkOGI0Yg==', 'tracks': {'href': 'https://api.spotify.com/v1/playlists/5CX6yopv9nObwbDlQs15WL/tracks', 'total': 39}, 'type': 'playlist', 'uri': 'spotify:playlist:5CX6yopv9nObwbDlQs15WL'}, {'collaborative': False, 'description': '', 'external_urls': {'spotify': 'https://open.spotify.com/playlist/51fQEQmRDYvKXshUOX8UjM'}, 'href': 'https://api.spotify.com/v1/playlists/51fQEQmRDYvKXshUOX8UjM', 'id': '51fQEQmRDYvKXshUOX8UjM', 'images': [{'height': 640, 'url': 'https://mosaic.scdn.co/640/ab67616d0000b273585f3d70dce678a5978a0941ab67616d0000b2736708becf8798d1df972fd9beab67616d0000b273b33d46dfa2635a47eebf63b2ab67616d0000b273d9194aa18fa4c9362b47464f', 'width': 640}, {'height': 300, 'url': 'https://mosaic.scdn.co/300/ab67616d0000b273585f3d70dce678a5978a0941ab67616d0000b2736708becf8798d1df972fd9beab67616d0000b273b33d46dfa2635a47eebf63b2ab67616d0000b273d9194aa18fa4c9362b47464f', 'width': 300}, {'height': 60, 'url': 'https://mosaic.scdn.co/60/ab67616d0000b273585f3d70dce678a5978a0941ab67616d0000b2736708becf8798d1df972fd9beab67616d0000b273b33d46dfa2635a47eebf63b2ab67616d0000b273d9194aa18fa4c9362b47464f', 'width': 60}], 'name': 'H Y P E M A N', 'owner': {'display_name': 'Rob Brosh', 'external_urls': {'spotify': 'https://open.spotify.com/user/froggthedogg'}, 'href': 'https://api.spotify.com/v1/users/froggthedogg', 'id': 'froggthedogg', 'type': 'user', 'uri': 'spotify:user:froggthedogg'}, 'primary_color': None, 'public': True, 'snapshot_id': 'MTAyLDQ1M2QwMTU2ZjhlZjYxMmY3Mjc4NjJhMGRjODQ5YTZmZmJhMDdmYTc=', 'tracks': {'href': 'https://api.spotify.com/v1/playlists/51fQEQmRDYvKXshUOX8UjM/tracks', 'total': 99}, 'type': 'playlist', 'uri': 'spotify:playlist:51fQEQmRDYvKXshUOX8UjM'}, {'collaborative': False, 'description': '', 'external_urls': {'spotify': 'https://open.spotify.com/playlist/1ZngZzklp6ki1Sn8pOtQab'}, 'href': 'https://api.spotify.com/v1/playlists/1ZngZzklp6ki1Sn8pOtQab', 'id': '1ZngZzklp6ki1Sn8pOtQab', 'images': [{'height': 640, 'url': 'https://mosaic.scdn.co/640/ab67616d0000b2732246f2bb6fe78dfff00766c8ab67616d0000b273756439e1232a6f7d0e800b94ab67616d0000b273a55051ec8b71f14923a2e82eab67616d0000b273e7b3a134360b6a20d7533320', 'width': 640}, {'height': 300, 'url': 'https://mosaic.scdn.co/300/ab67616d0000b2732246f2bb6fe78dfff00766c8ab67616d0000b273756439e1232a6f7d0e800b94ab67616d0000b273a55051ec8b71f14923a2e82eab67616d0000b273e7b3a134360b6a20d7533320', 'width': 300}, {'height': 60, 'url': 'https://mosaic.scdn.co/60/ab67616d0000b2732246f2bb6fe78dfff00766c8ab67616d0000b273756439e1232a6f7d0e800b94ab67616d0000b273a55051ec8b71f14923a2e82eab67616d0000b273e7b3a134360b6a20d7533320', 'width': 60}], 'name': 'Weeb 2', 'owner': {'display_name': 'Rob Brosh', 'external_urls': {'spotify': 'https://open.spotify.com/user/froggthedogg'}, 'href': 'https://api.spotify.com/v1/users/froggthedogg', 'id': 'froggthedogg', 'type': 'user', 'uri': 'spotify:user:froggthedogg'}, 'primary_color': None, 'public': True, 'snapshot_id': 'MTczLGY4Y2U0NTBlMmI0OTAyYTYwZDE3NmJlOGYxNGYzNDhiOWUxNTZjYzQ=', 'tracks': {'href': 'https://api.spotify.com/v1/playlists/1ZngZzklp6ki1Sn8pOtQab/tracks', 'total': 145}, 'type': 'playlist', 'uri': 'spotify:playlist:1ZngZzklp6ki1Sn8pOtQab'}, {'collaborative': False, 'description': 'Lots of hits from the 90s, 2000s and 2010s as well as a few undercover jams, all family friendly of course :)', 'external_urls': {'spotify': 'https://open.spotify.com/playlist/57NwOlKpSJ2npiY1sL5wSr'}, 'href': 'https://api.spotify.com/v1/playlists/57NwOlKpSJ2npiY1sL5wSr', 'id': '57NwOlKpSJ2npiY1sL5wSr', 'images': [{'height': 640, 'url': 'https://mosaic.scdn.co/640/ab67616d0000b2733437e8bbed340ca556c42c04ab67616d0000b2739478c87599550dd73bfa7e02ab67616d0000b273cff69ca474beabb0c1be874bab67616d0000b273f860547bc8ba0c59df4fe2c3', 'width': 640}, {'height': 300, 'url': 'https://mosaic.scdn.co/300/ab67616d0000b2733437e8bbed340ca556c42c04ab67616d0000b2739478c87599550dd73bfa7e02ab67616d0000b273cff69ca474beabb0c1be874bab67616d0000b273f860547bc8ba0c59df4fe2c3', 'width': 300}, {'height': 60, 'url': 'https://mosaic.scdn.co/60/ab67616d0000b2733437e8bbed340ca556c42c04ab67616d0000b2739478c87599550dd73bfa7e02ab67616d0000b273cff69ca474beabb0c1be874bab67616d0000b273f860547bc8ba0c59df4fe2c3', 'width': 60}], 'name': 'Semi-hipster family friendly mix', 'owner': {'display_name': 'Rob Brosh', 'external_urls': {'spotify': 'https://open.spotify.com/user/froggthedogg'}, 'href': 'https://api.spotify.com/v1/users/froggthedogg', 'id': 'froggthedogg', 'type': 'user', 'uri': 'spotify:user:froggthedogg'}, 'primary_color': None, 'public': True, 'snapshot_id': 'MTQxLDU5YmUxYTI4MjU4YTlhNmUwODdmY2ZkYTZiMGMyYjM3NmVjZDE5YjM=', 'tracks': {'href': 'https://api.spotify.com/v1/playlists/57NwOlKpSJ2npiY1sL5wSr/tracks', 'total': 104}, 'type': 'playlist', 'uri': 'spotify:playlist:57NwOlKpSJ2npiY1sL5wSr'}, {'collaborative': False, 'description': '', 'external_urls': {'spotify': 'https://open.spotify.com/playlist/2MoYtzCXncsXrPQBMPUlt0'}, 'href': 'https://api.spotify.com/v1/playlists/2MoYtzCXncsXrPQBMPUlt0', 'id': '2MoYtzCXncsXrPQBMPUlt0', 'images': [{'height': 640, 'url': 'https://mosaic.scdn.co/640/ab67616d0000b273813bc1298e37a05c8ef89f85ab67616d0000b2738ac5d9c7886e1c8d8ff23b33ab67616d0000b2739cb61a432e9f9b27a1d3285bab67616d0000b273bf97b2acaf967bb8ee7aa2f6', 'width': 640}, {'height': 300, 'url': 'https://mosaic.scdn.co/300/ab67616d0000b273813bc1298e37a05c8ef89f85ab67616d0000b2738ac5d9c7886e1c8d8ff23b33ab67616d0000b2739cb61a432e9f9b27a1d3285bab67616d0000b273bf97b2acaf967bb8ee7aa2f6', 'width': 300}, {'height': 60, 'url': 'https://mosaic.scdn.co/60/ab67616d0000b273813bc1298e37a05c8ef89f85ab67616d0000b2738ac5d9c7886e1c8d8ff23b33ab67616d0000b2739cb61a432e9f9b27a1d3285bab67616d0000b273bf97b2acaf967bb8ee7aa2f6', 'width': 60}], 'name': 'Weeb', 'owner': {'display_name': 'Rob Brosh', 'external_urls': {'spotify': 'https://open.spotify.com/user/froggthedogg'}, 'href': 'https://api.spotify.com/v1/users/froggthedogg', 'id': 'froggthedogg', 'type': 'user', 'uri': 'spotify:user:froggthedogg'}, 'primary_color': None, 'public': True, 'snapshot_id': 'ODIsNTM2ZTAxMTBmOTE5MzE0OGIyYTI5ZjljNGY4ZDMzNTM0ODFjYmQ2Ng==', 'tracks': {'href': 'https://api.spotify.com/v1/playlists/2MoYtzCXncsXrPQBMPUlt0/tracks', 'total': 67}, 'type': 'playlist', 'uri': 'spotify:playlist:2MoYtzCXncsXrPQBMPUlt0'}, {'collaborative': False, 'description': '', 'external_urls': {'spotify': 'https://open.spotify.com/playlist/6g4ECENzpzHpq7mAGC7kde'}, 'href': 'https://api.spotify.com/v1/playlists/6g4ECENzpzHpq7mAGC7kde', 'id': '6g4ECENzpzHpq7mAGC7kde', 'images': [{'height': 640, 'url': 'https://mosaic.scdn.co/640/ab67616d0000b2730538b48c180256e0bdd8363fab67616d0000b273132018693b0dc6095d18cf96ab67616d0000b2738b32b139981e79f2ebe005ebab67616d0000b27395d1d98c5176e4f982bd73d6', 'width': 640}, {'height': 300, 'url': 'https://mosaic.scdn.co/300/ab67616d0000b2730538b48c180256e0bdd8363fab67616d0000b273132018693b0dc6095d18cf96ab67616d0000b2738b32b139981e79f2ebe005ebab67616d0000b27395d1d98c5176e4f982bd73d6', 'width': 300}, {'height': 60, 'url': 'https://mosaic.scdn.co/60/ab67616d0000b2730538b48c180256e0bdd8363fab67616d0000b273132018693b0dc6095d18cf96ab67616d0000b2738b32b139981e79f2ebe005ebab67616d0000b27395d1d98c5176e4f982bd73d6', 'width': 60}], 'name': 'rise up', 'owner': {'display_name': 'Rob Brosh', 'external_urls': {'spotify': 'https://open.spotify.com/user/froggthedogg'}, 'href': 'https://api.spotify.com/v1/users/froggthedogg', 'id': 'froggthedogg', 'type': 'user', 'uri': 'spotify:user:froggthedogg'}, 'primary_color': None, 'public': True, 'snapshot_id': 'ODcsZjYwYTg5N2U3N2Q3MjA2ZjVhY2E0NWRlNTFjMmY3Y2ViZDJiY2VjZA==', 'tracks': {'href': 'https://api.spotify.com/v1/playlists/6g4ECENzpzHpq7mAGC7kde/tracks', 'total': 47}, 'type': 'playlist', 'uri': 'spotify:playlist:6g4ECENzpzHpq7mAGC7kde'}], 'limit': 50, 'next': None, 'offset': 0, 'previous': None, 'total': 20}\n"
          ]
        }
      ],
      "source": [
        "results = sp.current_user_playlists()\n",
        "user = sp.current_user()['external_urls']['spotify']\n",
        "print(user)\n",
        "print(results)"
      ]
    },
    {
      "cell_type": "code",
      "source": [
        "def format_artists(artist_names):\n",
        "    formatted = '('\n",
        "    formatted+=', '.join(artist_names)\n",
        "    formatted+=')'\n",
        "    return formatted"
      ],
      "metadata": {
        "id": "3P3xzViXG2PC"
      },
      "execution_count": 88,
      "outputs": []
    },
    {
      "cell_type": "code",
      "execution_count": 89,
      "metadata": {
        "id": "sGYBX4yD1IP8"
      },
      "outputs": [],
      "source": [
        "def check_for_duplicates(item):\n",
        "  playlist_id = item['id']\n",
        "  next = \"placeholder\"\n",
        "  track_list = []\n",
        "  duplicate_list = []\n",
        "  count = 0\n",
        "  delete_items_map = []\n",
        "  print(\"Checking {0} for duplicates...\".format(item['name']))\n",
        "  while(next!=None):\n",
        "    results = sp.playlist_tracks(playlist_id=playlist_id,offset=count)\n",
        "    items = results['items']\n",
        "    for track_item in items:\n",
        "      count+=1\n",
        "      track = track_item['track']\n",
        "      track_name = track['name']\n",
        "      track_artists = track['artists']\n",
        "      artist_names = []\n",
        "      for track_artist in track_artists:\n",
        "        artist_names.append(track_artist['name'])\n",
        "      for passed_track in track_list:\n",
        "        if track_name == passed_track[1] and artist_names == passed_track[2]:\n",
        "          delete_items_map.append({\"uri\":track['uri'][14:],\"positions\":[count]})\n",
        "          duplicate_list.append([passed_track[0],count,track_name,artist_names])\n",
        "          break\n",
        "      track_list.append([count,track_name,artist_names])\n",
        "    next = results['next']\n",
        "  if int(len(duplicate_list)) == 0:\n",
        "    print(\"No duplicates found!\")\n",
        "  else:\n",
        "    print(len(duplicate_list), \"Duplicates found:\")\n",
        "    for duplicate_item in duplicate_list:\n",
        "      formatted_artists = format_artists(duplicate_item[3])\n",
        "      print(\"Number {0} and {1}: {2} {3}\".format(duplicate_item[0],duplicate_item[1],duplicate_item[2],formatted_artists))\n",
        "\n",
        "    ask_delete = input(\"Would you like to remove duplicates? Type 'Y' for yes.\")\n",
        "    if ask_delete == 'Y':\n",
        "      offset = 1\n",
        "      for delete_item_entry in delete_items_map:\n",
        "        delete_item_entry['positions'][0]-=offset\n",
        "        sp.playlist_remove_specific_occurrences_of_items(playlist_id=playlist_id,items=[delete_item_entry])\n",
        "        offset+=1\n",
        "      print(\"Removed {0} songs from playlist.\".format(offset-1))\n"
      ]
    },
    {
      "cell_type": "code",
      "source": [
        "def check_for_duplicates_liked_songs():\n",
        "  next = \"placeholder\"\n",
        "  track_list = []\n",
        "  duplicate_list = []\n",
        "  count = 0\n",
        "  delete_ids = []\n",
        "  print(\"Checking Liked Songs for duplicates...\")\n",
        "  while(next!=None):\n",
        "    results = sp.current_user_saved_tracks(offset=count)\n",
        "    items = results['items']\n",
        "    for track_item in items:\n",
        "      count+=1\n",
        "      track = track_item['track']\n",
        "      track_name = track['name']\n",
        "      track_artists = track['artists']\n",
        "      artist_names = []\n",
        "      for track_artist in track_artists:\n",
        "        artist_names.append(track_artist['name'])\n",
        "      for passed_track in track_list:\n",
        "        if track_name == passed_track[1] and artist_names == passed_track[2]:\n",
        "          delete_ids.append(track['id'])\n",
        "          duplicate_list.append([passed_track[0],count,track_name,artist_names])\n",
        "          break\n",
        "      track_list.append([count,track_name,artist_names])\n",
        "    next = results['next']\n",
        "  if int(len(duplicate_list)) == 0:\n",
        "    print(\"No duplicates found!\")\n",
        "  else:\n",
        "    print(len(duplicate_list), \"Duplicates found:\")\n",
        "    for duplicate_item in duplicate_list:\n",
        "      formatted_artists = format_artists(duplicate_item[3])\n",
        "      print(\"Number {0} and {1}: {2} {3}\".format(duplicate_item[0],duplicate_item[1],duplicate_item[2],formatted_artists))\n",
        "\n",
        "    ask_delete = input(\"Would you like to remove duplicates? Type 'Y' for yes.\")\n",
        "    if ask_delete == 'Y':\n",
        "      offset = 1\n",
        "      sp.current_user_saved_tracks_delete(tracks=delete_ids)\n",
        "      print(\"Removed {0} songs from playlist.\".format(len(delete_ids)))"
      ],
      "metadata": {
        "id": "lRiJD_5ECfQB"
      },
      "execution_count": 90,
      "outputs": []
    },
    {
      "cell_type": "code",
      "execution_count": 91,
      "metadata": {
        "colab": {
          "base_uri": "https://localhost:8080/"
        },
        "id": "s5pZegJ2wGwK",
        "outputId": "a85e359a-8cea-4355-aedf-ac4fc4db121a"
      },
      "outputs": [
        {
          "output_type": "stream",
          "name": "stdout",
          "text": [
            "Found playlists:\n",
            "1. Liked Songs\n",
            "2. spotify api test playlist\n",
            "3. Nostalgia\n",
            "4. Covers\n",
            "5. Roadtrip!!!\n",
            "6. Rise up 2\n",
            "7. For Willow\n",
            "8. HYPErpop\n",
            "9. Strong\n",
            "10. mocktail\n",
            "11. Coding (Instrumental)\n",
            "12. Folk Punk/Indie Rock/Midwest Emo\n",
            "13. that's tough, bro\n",
            "14. C O R O N A V I R U S\n",
            "15. Coffee, or Orange Juice?\n",
            "16. H Y P E M A N\n",
            "17. Weeb 2\n",
            "18. Semi-hipster family friendly mix\n",
            "19. Weeb\n",
            "20. rise up\n"
          ]
        }
      ],
      "source": [
        "count = 2\n",
        "items = results['items']\n",
        "print(\"Found playlists:\")\n",
        "index_item_map = {1:'Liked Songs'}\n",
        "print(\"1. Liked Songs\")\n",
        "for item in items:\n",
        "  if item['owner']['external_urls']['spotify'] == user:\n",
        "    name = item['name']\n",
        "    print(\"{0}. {1}\".format(count, name))\n",
        "    index_item_map[count]=item\n",
        "    count=count+1"
      ]
    },
    {
      "cell_type": "code",
      "execution_count": 92,
      "metadata": {
        "colab": {
          "base_uri": "https://localhost:8080/"
        },
        "id": "rcaTUixXxtfd",
        "outputId": "fc85f87a-ad7a-419c-a72b-b245114e5da6"
      },
      "outputs": [
        {
          "output_type": "stream",
          "name": "stdout",
          "text": [
            "What number playlist would you like to check? Type 'ALL' to check all playlists.17\n",
            "Checking 17. Weeb 2\n",
            "Checking Weeb 2 for duplicates...\n",
            "No duplicates found!\n"
          ]
        }
      ],
      "source": [
        "playlist_number = input(\"What number playlist would you like to check? Type 'ALL' to check all playlists.\")\n",
        "if playlist_number == 'ALL':\n",
        "  print(\"Checking ALL playlists...\")\n",
        "  for key in index_item_map:\n",
        "    if key == 1:\n",
        "      check_for_duplicates_liked_songs()\n",
        "    else:\n",
        "      item = index_item_map[key]\n",
        "      check_for_duplicates(item)\n",
        "  print(\"Finished checking all playlists.\")\n",
        "elif playlist_number == '1':\n",
        "  print(\"Checking 1. Liked Songs\")\n",
        "  check_for_duplicates_liked_songs()\n",
        "else:\n",
        "  item = index_item_map.get(int(playlist_number))\n",
        "  name = item['name']\n",
        "  print(\"Checking {0}. {1}\".format(playlist_number, name))\n",
        "  check_for_duplicates(item)\n"
      ]
    }
  ],
  "metadata": {
    "colab": {
      "provenance": [],
      "authorship_tag": "ABX9TyMF4R2jCvjg25kBNWffhqSB",
      "include_colab_link": true
    },
    "kernelspec": {
      "display_name": "Python 3",
      "name": "python3"
    },
    "language_info": {
      "name": "python"
    }
  },
  "nbformat": 4,
  "nbformat_minor": 0
}